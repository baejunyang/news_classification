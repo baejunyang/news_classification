{
 "cells": [
  {
   "cell_type": "code",
   "execution_count": 1,
   "metadata": {},
   "outputs": [],
   "source": [
    "import pandas as pd\n",
    "import re\n",
    "import os"
   ]
  },
  {
   "cell_type": "code",
   "execution_count": 2,
   "metadata": {},
   "outputs": [],
   "source": [
    "# 메디파나 파일들 concat\n",
    "df1 = pd.read_csv('./data/medipana/news_medipana_187638_190000.csv', encoding='utf-8-sig')\n",
    "df2 = pd.read_csv('./data/medipana/news_medipana_190000_195000.csv', encoding='utf-8-sig')\n",
    "df3 = pd.read_csv('./data/medipana/news_medipana_195000_200000.csv', encoding='utf-8-sig')\n",
    "df4 = pd.read_csv('./data/medipana/news_medipana_200000_205000.csv', encoding='utf-8-sig')\n",
    "df5 = pd.read_csv('./data/medipana/news_medipana_205000_209499.csv', encoding='utf-8-sig')\n",
    "\n",
    "df = pd.concat([df1, df2, df3, df4, df5])\n",
    "\n",
    "df.to_csv('./data/medipana/news_medipana_all_1118.csv', encoding='utf-8-sig', index=False)"
   ]
  },
  {
   "cell_type": "code",
   "execution_count": 3,
   "metadata": {},
   "outputs": [],
   "source": [
    "cwd = './data/news_to_concat/'\n",
    "file_names = os.listdir(cwd)[1:]"
   ]
  },
  {
   "cell_type": "code",
   "execution_count": 4,
   "metadata": {},
   "outputs": [],
   "source": [
    "# news_to_concat에 있는 모든 파일들을 df 딕셔너리에 추가시킨다.\n",
    "df = {}\n",
    "for i, file in enumerate(file_names):\n",
    "    df[i] = pd.read_excel(cwd+file, encoding='utf-8-sig')"
   ]
  },
  {
   "cell_type": "code",
   "execution_count": 33,
   "metadata": {
    "scrolled": true
   },
   "outputs": [
    {
     "data": {
      "text/html": [
       "<div>\n",
       "<style scoped>\n",
       "    .dataframe tbody tr th:only-of-type {\n",
       "        vertical-align: middle;\n",
       "    }\n",
       "\n",
       "    .dataframe tbody tr th {\n",
       "        vertical-align: top;\n",
       "    }\n",
       "\n",
       "    .dataframe thead th {\n",
       "        text-align: right;\n",
       "    }\n",
       "</style>\n",
       "<table border=\"1\" class=\"dataframe\">\n",
       "  <thead>\n",
       "    <tr style=\"text-align: right;\">\n",
       "      <th></th>\n",
       "      <th>content</th>\n",
       "      <th>date</th>\n",
       "      <th>link</th>\n",
       "      <th>title</th>\n",
       "      <th>site</th>\n",
       "    </tr>\n",
       "  </thead>\n",
       "  <tbody>\n",
       "    <tr>\n",
       "      <th>0</th>\n",
       "      <td>국내 유전체기업의 유전체 분석을 통한 산전기형아검사 기술의 정확성이 해외 유수 저널...</td>\n",
       "      <td>2017-11-13</td>\n",
       "      <td>http://www.biospectator.com/view/news_view.php...</td>\n",
       "      <td>지놈케어 \"산전기형아검사 정확성 높인 기술 '제노맘' 적용\"</td>\n",
       "      <td>biospectator</td>\n",
       "    </tr>\n",
       "    <tr>\n",
       "      <th>1</th>\n",
       "      <td>씨티씨바이오는 13일 ‘조루증 치료용 약학 조성물 및 조루증 치료방법’에 대해 유럽...</td>\n",
       "      <td>2017-11-13</td>\n",
       "      <td>http://www.biospectator.com/view/news_view.php...</td>\n",
       "      <td>씨티씨바이오, 조루증치료제 유럽·러시아 등 특허등록</td>\n",
       "      <td>biospectator</td>\n",
       "    </tr>\n",
       "    <tr>\n",
       "      <th>2</th>\n",
       "      <td>유바이오로직스가 한국과학기술연구원(KIST)가 개발한 TLR4 agonist 계열 ...</td>\n",
       "      <td>2017-11-13</td>\n",
       "      <td>http://www.biospectator.com/view/news_view.php...</td>\n",
       "      <td>유바이오로직스, KIST 면역증강제 생산기술 도입</td>\n",
       "      <td>biospectator</td>\n",
       "    </tr>\n",
       "    <tr>\n",
       "      <th>3</th>\n",
       "      <td>일양약품은 13일(현지시간) 미국 워싱턴DC에서 열린 미국신경과학회(2017 SFN...</td>\n",
       "      <td>2017-11-13</td>\n",
       "      <td>http://www.biospectator.com/view/news_view.php...</td>\n",
       "      <td>일양, 국제학회서 슈펙트 연구 소개..‘파킨슨병 치료 효과’</td>\n",
       "      <td>biospectator</td>\n",
       "    </tr>\n",
       "    <tr>\n",
       "      <th>4</th>\n",
       "      <td>동화약품이 안양 공장 부지 매각을 추진한지 9년 만에 매각을 완료했다. 회사 측은 ...</td>\n",
       "      <td>2017-11-13</td>\n",
       "      <td>http://www.biospectator.com/view/news_view.php...</td>\n",
       "      <td>동화약품, 9년만에 안양부지 매각 완료..‘R&amp;D재원 확보’</td>\n",
       "      <td>biospectator</td>\n",
       "    </tr>\n",
       "  </tbody>\n",
       "</table>\n",
       "</div>"
      ],
      "text/plain": [
       "                                             content        date  \\\n",
       "0  국내 유전체기업의 유전체 분석을 통한 산전기형아검사 기술의 정확성이 해외 유수 저널...  2017-11-13   \n",
       "1  씨티씨바이오는 13일 ‘조루증 치료용 약학 조성물 및 조루증 치료방법’에 대해 유럽...  2017-11-13   \n",
       "2  유바이오로직스가 한국과학기술연구원(KIST)가 개발한 TLR4 agonist 계열 ...  2017-11-13   \n",
       "3  일양약품은 13일(현지시간) 미국 워싱턴DC에서 열린 미국신경과학회(2017 SFN...  2017-11-13   \n",
       "4  동화약품이 안양 공장 부지 매각을 추진한지 9년 만에 매각을 완료했다. 회사 측은 ...  2017-11-13   \n",
       "\n",
       "                                                link  \\\n",
       "0  http://www.biospectator.com/view/news_view.php...   \n",
       "1  http://www.biospectator.com/view/news_view.php...   \n",
       "2  http://www.biospectator.com/view/news_view.php...   \n",
       "3  http://www.biospectator.com/view/news_view.php...   \n",
       "4  http://www.biospectator.com/view/news_view.php...   \n",
       "\n",
       "                               title          site  \n",
       "0  지놈케어 \"산전기형아검사 정확성 높인 기술 '제노맘' 적용\"  biospectator  \n",
       "1       씨티씨바이오, 조루증치료제 유럽·러시아 등 특허등록  biospectator  \n",
       "2        유바이오로직스, KIST 면역증강제 생산기술 도입  biospectator  \n",
       "3  일양, 국제학회서 슈펙트 연구 소개..‘파킨슨병 치료 효과’  biospectator  \n",
       "4  동화약품, 9년만에 안양부지 매각 완료..‘R&D재원 확보’  biospectator  "
      ]
     },
     "execution_count": 33,
     "metadata": {},
     "output_type": "execute_result"
    }
   ],
   "source": [
    "df[0].head()"
   ]
  },
  {
   "cell_type": "code",
   "execution_count": null,
   "metadata": {},
   "outputs": [],
   "source": [
    "# 양식 통일\n",
    "df[11].columns = ['content', 'date', 'link', 'title', 'site']\n",
    "df[16].columns = ['content', 'date', 'link', 'title', 'site']"
   ]
  },
  {
   "cell_type": "code",
   "execution_count": 30,
   "metadata": {},
   "outputs": [],
   "source": [
    "# all_news 데이터프레임에 모든 뉴스를 합친다.\n",
    "all_news = df[0]\n",
    "for i in range(1, len(df.keys())):\n",
    "    all_news = pd.concat([all_news, df[i]])"
   ]
  },
  {
   "cell_type": "code",
   "execution_count": 32,
   "metadata": {},
   "outputs": [],
   "source": [
    "all_news.to_csv('./data/all_news_1125.csv', encoding='utf-8-sig', index=False)"
   ]
  }
 ],
 "metadata": {
  "kernelspec": {
   "display_name": "venv_study",
   "language": "python",
   "name": "venv_study"
  },
  "language_info": {
   "codemirror_mode": {
    "name": "ipython",
    "version": 3
   },
   "file_extension": ".py",
   "mimetype": "text/x-python",
   "name": "python",
   "nbconvert_exporter": "python",
   "pygments_lexer": "ipython3",
   "version": "3.6.3"
  }
 },
 "nbformat": 4,
 "nbformat_minor": 2
}
