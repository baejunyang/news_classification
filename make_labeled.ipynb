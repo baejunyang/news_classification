{
 "cells": [
  {
   "cell_type": "code",
   "execution_count": 1,
   "metadata": {},
   "outputs": [],
   "source": [
    "import os\n",
    "import re\n",
    "import pandas as pd"
   ]
  },
  {
   "cell_type": "code",
   "execution_count": 2,
   "metadata": {},
   "outputs": [],
   "source": [
    "list_dir = os.listdir('./data/mails/')[2:]"
   ]
  },
  {
   "cell_type": "code",
   "execution_count": 3,
   "metadata": {},
   "outputs": [],
   "source": [
    "form = {'date': [], 'category': [], 'title': []}\n",
    "\n",
    "date_pattern = '\\d+\\.\\s\\d+\\.\\s\\d+'\n",
    "category_pattern ='산업/정책 동향|기업/경영|신제품/경쟁품|기타\\s\\n'\n",
    "title_pattern = '•.*<'\n",
    "\n",
    "for f_name in list_dir[2:]:\n",
    "    file = \"./data/mails/{}/message.text\".format(f_name)\n",
    "    with open(file, 'r') as f:\n",
    "        data = f.read()\n",
    "        patterns = re.findall('{}|{}|{}'.format(date_pattern, category_pattern,title_pattern), data)\n",
    "        date_count = 0\n",
    "\n",
    "        category = ''\n",
    "        date = ''\n",
    "        for pattern in patterns:\n",
    "            if re.search(date_pattern, pattern):\n",
    "                date_count += 1\n",
    "                if date_count >2:\n",
    "                    break\n",
    "                date = pattern\n",
    "            elif pattern in ['산업/정책 동향', '기업/경영', '신제품/경쟁품']:\n",
    "                category = pattern\n",
    "            elif pattern == '기타 \\n':\n",
    "                category = pattern[:2]\n",
    "            else:\n",
    "                title = pattern[1:-1].strip()\n",
    "\n",
    "                form['date'].append(date)\n",
    "                form['category'].append(category)\n",
    "                form['title'].append(title)"
   ]
  },
  {
   "cell_type": "code",
   "execution_count": 4,
   "metadata": {},
   "outputs": [],
   "source": [
    "df = pd.DataFrame(form)"
   ]
  },
  {
   "cell_type": "code",
   "execution_count": 5,
   "metadata": {},
   "outputs": [],
   "source": [
    "df.to_excel('./data/labeled_1204.xlsx', encoding='utf-8-sig')"
   ]
  },
  {
   "cell_type": "code",
   "execution_count": null,
   "metadata": {},
   "outputs": [],
   "source": []
  }
 ],
 "metadata": {
  "kernelspec": {
   "display_name": "venv_study",
   "language": "python",
   "name": "venv_study"
  },
  "language_info": {
   "codemirror_mode": {
    "name": "ipython",
    "version": 3
   },
   "file_extension": ".py",
   "mimetype": "text/x-python",
   "name": "python",
   "nbconvert_exporter": "python",
   "pygments_lexer": "ipython3",
   "version": "3.6.3"
  }
 },
 "nbformat": 4,
 "nbformat_minor": 2
}
