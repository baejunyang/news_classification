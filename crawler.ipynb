{
 "cells": [
  {
   "cell_type": "code",
   "execution_count": 1,
   "metadata": {},
   "outputs": [],
   "source": [
    "import requests\n",
    "from bs4 import BeautifulSoup\n",
    "import re"
   ]
  },
  {
   "cell_type": "code",
   "execution_count": null,
   "metadata": {
    "collapsed": true
   },
   "outputs": [],
   "source": [
    "# 메디파나뉴스 크롤링 -> 방화벽\n",
    "url = 'http://www.medipana.com/news/news_list_new.asp?MainKind=B&NewsKind=103&vCount=12&vKind=1'\n",
    "site = 'http://www.medipana.com/news/'\n",
    "\n",
    "gisa_links = []\n",
    "\n",
    "res = requests.get(url)\n",
    "dom = BeautifulSoup(res.content, 'html5lib')\n",
    "pages = dom.findAll('tbody')\n",
    "\n",
    "for page in pages:\n",
    "    try:\n",
    "        if 'news_viewer' in page.find('a').attrs['href']:\n",
    "            if (site+page.find('a').attrs['href']) not in gisa_links:\n",
    "                if len(page.find('a').attrs['href']) > 100:\n",
    "                    gisa_links.append(site+page.find('a').attrs['href'])\n",
    "    except:\n",
    "        pass\n",
    "    \n",
    "for gisa_link in gisa_links:\n",
    "    res = requests.get(gisa_link)\n",
    "    dom = BeautifulSoup(res.content, 'html5lib')\n",
    "    #title = dom.find('div',{'class':'detailL'})\n",
    "    print (dom.text)\n",
    "    \n",
    "    #stitle = dom.find('a',{'class':'top_middle_title1'}).get_text()\n",
    "    #content = dom.find('td',{'id':'articleBody'}).get_text()\n",
    "    #print(title, stitle)"
   ]
  }
 ],
 "metadata": {
  "kernelspec": {
   "display_name": "venv_study",
   "language": "python",
   "name": "venv_study"
  },
  "language_info": {
   "codemirror_mode": {
    "name": "ipython",
    "version": 3
   },
   "file_extension": ".py",
   "mimetype": "text/x-python",
   "name": "python",
   "nbconvert_exporter": "python",
   "pygments_lexer": "ipython3",
   "version": "3.6.3"
  }
 },
 "nbformat": 4,
 "nbformat_minor": 2
}
