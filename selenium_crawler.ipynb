{
 "cells": [
  {
   "cell_type": "code",
   "execution_count": 36,
   "metadata": {},
   "outputs": [
    {
     "name": "stdout",
     "output_type": "stream",
     "text": [
      "3\n"
     ]
    }
   ],
   "source": [
    "from selenium import webdriver\n",
    "from selenium.webdriver.common.keys import Keys\n",
    "\n",
    "# 드라이버 생성\n",
    "chromedriver = '/Users/noah/Documents/chromedriver'\n",
    "driver = webdriver.Chrome(chromedriver)\n",
    "driver.get(\"http://www.medipana.com/news/news_list_new.asp?MainKind=B&NewsKind=103&vCount=12&vKind=1\")\n",
    "\n",
    "tag1 = driver.find_elements_by_xpath(\"((/html/body/table/tbody/tr)[6]/td)[2]/table/tbody/tr/td/table/tbody\")\n",
    "print (len(tag1))\n",
    "# for tag in tag1:\n",
    "#     print (tag.text)\n",
    "\n",
    "driver.quit()"
   ]
  },
  {
   "cell_type": "code",
   "execution_count": 35,
   "metadata": {},
   "outputs": [
    {
     "name": "stdout",
     "output_type": "stream",
     "text": [
      "1\n"
     ]
    }
   ],
   "source": [
    "from selenium import webdriver\n",
    "from selenium.webdriver.common.keys import Keys\n",
    "\n",
    "# 드라이버 생성\n",
    "chromedriver = '/Users/noah/Documents/chromedriver'\n",
    "driver = webdriver.Chrome(chromedriver)\n",
    "driver.get(\"http://www.medipana.com/news/news_list_new.asp?MainKind=B&NewsKind=103&vCount=12&vKind=1\")\n",
    "\n",
    "tag1 = driver.find_elements_by_xpath(\"(/html/body/table/tbody/tr)[6]\")\n",
    "print (len(tag1))\n",
    "\n",
    "driver.quit()"
   ]
  },
  {
   "cell_type": "code",
   "execution_count": 18,
   "metadata": {},
   "outputs": [
    {
     "name": "stdout",
     "output_type": "stream",
     "text": [
      "<selenium.webdriver.remote.webelement.WebElement (session=\"821fa7f0dc20d7dd7d7ce8980387cdd4\", element=\"0.6591776448502351-6\")>\n"
     ]
    }
   ],
   "source": [
    "driver.\n"
   ]
  },
  {
   "cell_type": "code",
   "execution_count": null,
   "metadata": {},
   "outputs": [],
   "source": [
    "# 메디파나뉴스 크롤링 -> 방화벽\n",
    "url = 'http://www.medipana.com/news/news_list_new.asp?MainKind=B&NewsKind=103&vCount=12&vKind=1'\n",
    "site = 'http://www.medipana.com/news/'\n",
    "\n",
    "gisa_links = []\n",
    "\n",
    "res = requests.get(url)\n",
    "dom = BeautifulSoup(res.content, 'html5lib')\n",
    "pages = dom.findAll('tbody')\n",
    "\n",
    "for page in pages:\n",
    "    try:\n",
    "        if 'news_viewer' in page.find('a').attrs['href']:\n",
    "            if (site+page.find('a').attrs['href']) not in gisa_links:\n",
    "                if len(page.find('a').attrs['href']) > 100:\n",
    "                    gisa_links.append(site+page.find('a').attrs['href'])\n",
    "    except:\n",
    "        pass\n",
    "    \n",
    "for gisa_link in gisa_links:\n",
    "    res = requests.get(gisa_link)\n",
    "    dom = BeautifulSoup(res.content, 'html5lib')\n",
    "    #title = dom.find('div',{'class':'detailL'})\n",
    "    print (dom.text)\n",
    "    \n",
    "    #stitle = dom.find('a',{'class':'top_middle_title1'}).get_text()\n",
    "    #content = dom.find('td',{'id':'articleBody'}).get_text()\n",
    "    #print(title, stitle)"
   ]
  }
 ],
 "metadata": {
  "kernelspec": {
   "display_name": "venv_study",
   "language": "python",
   "name": "venv_study"
  },
  "language_info": {
   "codemirror_mode": {
    "name": "ipython",
    "version": 3
   },
   "file_extension": ".py",
   "mimetype": "text/x-python",
   "name": "python",
   "nbconvert_exporter": "python",
   "pygments_lexer": "ipython3",
   "version": "3.6.3"
  }
 },
 "nbformat": 4,
 "nbformat_minor": 2
}
