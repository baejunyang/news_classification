{
 "cells": [
  {
   "cell_type": "code",
   "execution_count": 66,
   "metadata": {},
   "outputs": [],
   "source": [
    "from selenium import webdriver\n",
    "from selenium.webdriver.common.keys import Keys\n",
    "\n",
    "import re"
   ]
  },
  {
   "cell_type": "code",
   "execution_count": 54,
   "metadata": {
    "scrolled": true
   },
   "outputs": [
    {
     "name": "stdout",
     "output_type": "stream",
     "text": [
      "http://www.medipana.com/news/news_viewer.asp?NewsNum=187726&MainKind=A&NewsKind=103&vCount=100&vKind=1&Page=1&sWord=&Qstring=\n",
      "http://www.medipana.com/news/news_viewer.asp?NewsNum=187725&MainKind=A&NewsKind=103&vCount=100&vKind=1&Page=1&sWord=&Qstring=\n",
      "http://www.medipana.com/news/news_viewer.asp?NewsNum=187724&MainKind=A&NewsKind=103&vCount=100&vKind=1&Page=1&sWord=&Qstring=\n",
      "http://www.medipana.com/news/news_viewer.asp?NewsNum=187722&MainKind=A&NewsKind=103&vCount=100&vKind=1&Page=1&sWord=&Qstring=\n",
      "http://www.medipana.com/news/news_viewer.asp?NewsNum=187720&MainKind=A&NewsKind=103&vCount=100&vKind=1&Page=1&sWord=&Qstring=\n",
      "http://www.medipana.com/news/news_viewer.asp?NewsNum=187719&MainKind=A&NewsKind=103&vCount=100&vKind=1&Page=1&sWord=&Qstring=\n",
      "http://www.medipana.com/news/news_viewer.asp?NewsNum=187718&MainKind=A&NewsKind=103&vCount=100&vKind=1&Page=1&sWord=&Qstring=\n",
      "http://www.medipana.com/news/news_viewer.asp?NewsNum=187717&MainKind=A&NewsKind=103&vCount=100&vKind=1&Page=1&sWord=&Qstring=\n",
      "http://www.medipana.com/news/news_viewer.asp?NewsNum=187716&MainKind=A&NewsKind=103&vCount=100&vKind=1&Page=1&sWord=&Qstring=\n",
      "http://www.medipana.com/news/news_viewer.asp?NewsNum=187714&MainKind=A&NewsKind=103&vCount=100&vKind=1&Page=1&sWord=&Qstring=\n",
      "http://www.medipana.com/news/news_viewer.asp?NewsNum=187713&MainKind=A&NewsKind=103&vCount=100&vKind=1&Page=1&sWord=&Qstring=\n",
      "http://www.medipana.com/news/news_viewer.asp?NewsNum=187715&MainKind=A&NewsKind=103&vCount=100&vKind=1&Page=1&sWord=&Qstring=\n",
      "http://www.medipana.com/news/news_viewer.asp?NewsNum=187712&MainKind=A&NewsKind=103&vCount=100&vKind=1&Page=1&sWord=&Qstring=\n",
      "http://www.medipana.com/news/news_viewer.asp?NewsNum=187711&MainKind=A&NewsKind=103&vCount=100&vKind=1&Page=1&sWord=&Qstring=\n",
      "http://www.medipana.com/news/news_viewer.asp?NewsNum=187710&MainKind=A&NewsKind=103&vCount=100&vKind=1&Page=1&sWord=&Qstring=\n",
      "http://www.medipana.com/news/news_viewer.asp?NewsNum=187709&MainKind=A&NewsKind=103&vCount=100&vKind=1&Page=1&sWord=&Qstring=\n",
      "http://www.medipana.com/news/news_viewer.asp?NewsNum=187692&MainKind=A&NewsKind=103&vCount=100&vKind=1&Page=1&sWord=&Qstring=\n",
      "http://www.medipana.com/news/news_viewer.asp?NewsNum=187708&MainKind=A&NewsKind=103&vCount=100&vKind=1&Page=1&sWord=&Qstring=\n",
      "http://www.medipana.com/news/news_viewer.asp?NewsNum=187707&MainKind=A&NewsKind=103&vCount=100&vKind=1&Page=1&sWord=&Qstring=\n",
      "http://www.medipana.com/news/news_viewer.asp?NewsNum=187706&MainKind=A&NewsKind=103&vCount=100&vKind=1&Page=1&sWord=&Qstring=\n",
      "http://www.medipana.com/news/news_viewer.asp?NewsNum=187679&MainKind=A&NewsKind=103&vCount=100&vKind=1&Page=1&sWord=&Qstring=\n",
      "http://www.medipana.com/news/news_viewer.asp?NewsNum=187705&MainKind=A&NewsKind=103&vCount=100&vKind=1&Page=1&sWord=&Qstring=\n",
      "http://www.medipana.com/news/news_viewer.asp?NewsNum=187704&MainKind=A&NewsKind=103&vCount=100&vKind=1&Page=1&sWord=&Qstring=\n",
      "http://www.medipana.com/news/news_viewer.asp?NewsNum=187703&MainKind=A&NewsKind=103&vCount=100&vKind=1&Page=1&sWord=&Qstring=\n",
      "http://www.medipana.com/news/news_viewer.asp?NewsNum=187701&MainKind=A&NewsKind=103&vCount=100&vKind=1&Page=1&sWord=&Qstring=\n",
      "http://www.medipana.com/news/news_viewer.asp?NewsNum=187702&MainKind=A&NewsKind=103&vCount=100&vKind=1&Page=1&sWord=&Qstring=\n",
      "http://www.medipana.com/news/news_viewer.asp?NewsNum=187686&MainKind=A&NewsKind=103&vCount=100&vKind=1&Page=1&sWord=&Qstring=\n",
      "http://www.medipana.com/news/news_viewer.asp?NewsNum=187698&MainKind=A&NewsKind=103&vCount=100&vKind=1&Page=1&sWord=&Qstring=\n",
      "http://www.medipana.com/news/news_viewer.asp?NewsNum=187699&MainKind=A&NewsKind=103&vCount=100&vKind=1&Page=1&sWord=&Qstring=\n",
      "http://www.medipana.com/news/news_viewer.asp?NewsNum=187700&MainKind=A&NewsKind=103&vCount=100&vKind=1&Page=1&sWord=&Qstring=\n",
      "http://www.medipana.com/news/news_viewer.asp?NewsNum=187697&MainKind=A&NewsKind=103&vCount=100&vKind=1&Page=1&sWord=&Qstring=\n",
      "http://www.medipana.com/news/news_viewer.asp?NewsNum=187696&MainKind=A&NewsKind=103&vCount=100&vKind=1&Page=1&sWord=&Qstring=\n",
      "http://www.medipana.com/news/news_viewer.asp?NewsNum=187695&MainKind=A&NewsKind=103&vCount=100&vKind=1&Page=1&sWord=&Qstring=\n",
      "http://www.medipana.com/news/news_viewer.asp?NewsNum=187690&MainKind=A&NewsKind=103&vCount=100&vKind=1&Page=1&sWord=&Qstring=\n",
      "http://www.medipana.com/news/news_viewer.asp?NewsNum=187693&MainKind=A&NewsKind=103&vCount=100&vKind=1&Page=1&sWord=&Qstring=\n",
      "http://www.medipana.com/news/news_viewer.asp?NewsNum=187694&MainKind=A&NewsKind=103&vCount=100&vKind=1&Page=1&sWord=&Qstring=\n",
      "http://www.medipana.com/news/news_viewer.asp?NewsNum=187689&MainKind=A&NewsKind=103&vCount=100&vKind=1&Page=1&sWord=&Qstring=\n",
      "http://www.medipana.com/news/news_viewer.asp?NewsNum=187691&MainKind=A&NewsKind=103&vCount=100&vKind=1&Page=1&sWord=&Qstring=\n",
      "http://www.medipana.com/news/news_viewer.asp?NewsNum=187687&MainKind=A&NewsKind=103&vCount=100&vKind=1&Page=1&sWord=&Qstring=\n",
      "http://www.medipana.com/news/news_viewer.asp?NewsNum=187685&MainKind=A&NewsKind=103&vCount=100&vKind=1&Page=1&sWord=&Qstring=\n",
      "http://www.medipana.com/news/news_viewer.asp?NewsNum=187684&MainKind=A&NewsKind=103&vCount=100&vKind=1&Page=1&sWord=&Qstring=\n",
      "http://www.medipana.com/news/news_viewer.asp?NewsNum=187683&MainKind=A&NewsKind=103&vCount=100&vKind=1&Page=1&sWord=&Qstring=\n",
      "http://www.medipana.com/news/news_viewer.asp?NewsNum=187682&MainKind=A&NewsKind=103&vCount=100&vKind=1&Page=1&sWord=&Qstring=\n",
      "http://www.medipana.com/news/news_viewer.asp?NewsNum=187681&MainKind=A&NewsKind=103&vCount=100&vKind=1&Page=1&sWord=&Qstring=\n",
      "http://www.medipana.com/news/news_viewer.asp?NewsNum=187675&MainKind=A&NewsKind=103&vCount=100&vKind=1&Page=1&sWord=&Qstring=\n",
      "http://www.medipana.com/news/news_viewer.asp?NewsNum=187680&MainKind=A&NewsKind=103&vCount=100&vKind=1&Page=1&sWord=&Qstring=\n",
      "http://www.medipana.com/news/news_viewer.asp?NewsNum=187678&MainKind=A&NewsKind=103&vCount=100&vKind=1&Page=1&sWord=&Qstring=\n",
      "http://www.medipana.com/news/news_viewer.asp?NewsNum=187677&MainKind=A&NewsKind=103&vCount=100&vKind=1&Page=1&sWord=&Qstring=\n",
      "http://www.medipana.com/news/news_viewer.asp?NewsNum=187674&MainKind=A&NewsKind=103&vCount=100&vKind=1&Page=1&sWord=&Qstring=\n",
      "http://www.medipana.com/news/news_viewer.asp?NewsNum=187673&MainKind=A&NewsKind=103&vCount=100&vKind=1&Page=1&sWord=&Qstring=\n",
      "http://www.medipana.com/news/news_viewer.asp?NewsNum=187671&MainKind=A&NewsKind=103&vCount=100&vKind=1&Page=1&sWord=&Qstring=\n",
      "http://www.medipana.com/news/news_viewer.asp?NewsNum=187672&MainKind=A&NewsKind=103&vCount=100&vKind=1&Page=1&sWord=&Qstring=\n",
      "http://www.medipana.com/news/news_viewer.asp?NewsNum=187669&MainKind=A&NewsKind=103&vCount=100&vKind=1&Page=1&sWord=&Qstring=\n",
      "http://www.medipana.com/news/news_viewer.asp?NewsNum=187667&MainKind=A&NewsKind=103&vCount=100&vKind=1&Page=1&sWord=&Qstring=\n",
      "http://www.medipana.com/news/news_viewer.asp?NewsNum=187666&MainKind=A&NewsKind=103&vCount=100&vKind=1&Page=1&sWord=&Qstring=\n",
      "http://www.medipana.com/news/news_viewer.asp?NewsNum=187665&MainKind=A&NewsKind=103&vCount=100&vKind=1&Page=1&sWord=&Qstring=\n",
      "http://www.medipana.com/news/news_viewer.asp?NewsNum=187661&MainKind=A&NewsKind=103&vCount=100&vKind=1&Page=1&sWord=&Qstring=\n",
      "http://www.medipana.com/news/news_viewer.asp?NewsNum=187648&MainKind=A&NewsKind=103&vCount=100&vKind=1&Page=1&sWord=&Qstring=\n",
      "http://www.medipana.com/news/news_viewer.asp?NewsNum=187662&MainKind=A&NewsKind=103&vCount=100&vKind=1&Page=1&sWord=&Qstring=\n",
      "http://www.medipana.com/news/news_viewer.asp?NewsNum=187663&MainKind=A&NewsKind=103&vCount=100&vKind=1&Page=1&sWord=&Qstring=\n",
      "http://www.medipana.com/news/news_viewer.asp?NewsNum=187653&MainKind=A&NewsKind=103&vCount=100&vKind=1&Page=1&sWord=&Qstring=\n",
      "http://www.medipana.com/news/news_viewer.asp?NewsNum=187664&MainKind=A&NewsKind=103&vCount=100&vKind=1&Page=1&sWord=&Qstring=\n",
      "http://www.medipana.com/news/news_viewer.asp?NewsNum=187660&MainKind=A&NewsKind=103&vCount=100&vKind=1&Page=1&sWord=&Qstring=\n",
      "http://www.medipana.com/news/news_viewer.asp?NewsNum=187639&MainKind=A&NewsKind=103&vCount=100&vKind=1&Page=1&sWord=&Qstring=\n",
      "http://www.medipana.com/news/news_viewer.asp?NewsNum=187652&MainKind=A&NewsKind=103&vCount=100&vKind=1&Page=1&sWord=&Qstring=\n"
     ]
    }
   ],
   "source": [
    "# 기사 링크 가져오기\n",
    "\n",
    "chromedriver = '/Users/noah/Documents/chromedriver'\n",
    "driver = webdriver.Chrome(chromedriver)\n",
    "driver.get('http://www.medipana.com/news/news_search_date_new.asp?WriteDate=2016-9-1')\n",
    "\n",
    "tag1 = driver.find_elements_by_xpath(\"//tbody/tr/td/a[@class='import_middle_title1']\")\n",
    "\n",
    "for tag in tag1:\n",
    "    print (tag.get_attribute('href'))\n",
    "\n",
    "driver.quit()"
   ]
  }
 ],
 "metadata": {
  "kernelspec": {
   "display_name": "venv_study",
   "language": "python",
   "name": "venv_study"
  },
  "language_info": {
   "codemirror_mode": {
    "name": "ipython",
    "version": 3
   },
   "file_extension": ".py",
   "mimetype": "text/x-python",
   "name": "python",
   "nbconvert_exporter": "python",
   "pygments_lexer": "ipython3",
   "version": "3.6.3"
  }
 },
 "nbformat": 4,
 "nbformat_minor": 2
}
