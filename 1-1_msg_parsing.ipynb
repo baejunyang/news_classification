{
 "cells": [
  {
   "cell_type": "code",
   "execution_count": 2,
   "metadata": {},
   "outputs": [],
   "source": [
    "import pandas as pd\n",
    "import numpy as np\n",
    "import re\n",
    "import os\n",
    "import requests\n",
    "\n",
    "path = \"./data/put_together.txt\""
   ]
  },
  {
   "cell_type": "code",
   "execution_count": 3,
   "metadata": {},
   "outputs": [],
   "source": [
    "#파일 읽기\n",
    "with open(path, 'r') as f:\n",
    "    data = f.read()"
   ]
  },
  {
   "cell_type": "code",
   "execution_count": 4,
   "metadata": {
    "scrolled": true
   },
   "outputs": [],
   "source": [
    "#url_list 리스트에 날짜, 카테고리, url만 추출\n",
    "date_pattern = '\\d{4}\\.\\s\\d{2}\\.\\s\\d{2}'\n",
    "url_pattern = '<http.*>'\n",
    "category_pattern ='산업/정책 동향|기업/경영|신제품/경쟁품|기타\\s\\\\n'\n",
    "\n",
    "url_list = re.findall('{}|{}|{}'.format(date_pattern, category_pattern,url_pattern), data)\n",
    "#re.findall('{}|{}'.format(date_pattern,url_pattern), data)"
   ]
  },
  {
   "cell_type": "code",
   "execution_count": 5,
   "metadata": {},
   "outputs": [],
   "source": [
    "#url_list를 사전으로 변환 후 데이터프레임으로 최종 변환\n",
    "url_sorted = {'date':[], 'category':[], 'url':[]}\n",
    "\n",
    "category = ''\n",
    "date = ''\n",
    "for url in url_list:\n",
    "    if url in ['산업/정책 동향', '기업/경영', '신제품/경쟁품']:\n",
    "        category = url\n",
    "    elif url == '기타 \\n':\n",
    "        category = url[:2]\n",
    "    elif re.search(date_pattern, url):\n",
    "        date = url\n",
    "    else:\n",
    "        url_sorted['date'].append(date)\n",
    "        url_sorted['category'].append(category)\n",
    "        url_sorted['url'].append(url[1:-1])\n",
    "        \n",
    "df = pd.DataFrame(url_sorted)"
   ]
  },
  {
   "cell_type": "code",
   "execution_count": 11,
   "metadata": {
    "scrolled": false
   },
   "outputs": [
    {
     "data": {
      "text/plain": [
       "'From: Ma, Youngmin(마 영민) </O=ASTELLAS/OU=EXCHANGE ADMINISTRATIVE GROUP (FYDIBOHF23SPDLT)/CN=RECIPIENTS/CN=KA090119>\\nTo: Jeong, Haido(정 해도); Fujita, Eiichi(후지타 에이이치); Cho, Youngduck(조 영덕); Bae, Younwang(배 연왕); Song, Joohun(송 주헌); Bae, Minyoung(배 민영); Jeong, Rakhyun(정 낙현); Kim, Kyunghee(김 경희1); Lee, Jaewoong(이 재웅); Choi, Yongseung(최 용승); Kim, Kwangmyung(김 광명); Cho, Kichan(조 기찬); Kim, Sungtae(김 성태); Lee, Dongwook(이 동욱); Kim, Daeyoung(김 대영); Jin, Hongsik(진 홍식); Ju, Kwangwon(주 광원); Kim, Hyunsook(김 현숙); Kim, Jinho(김 진호); Kwak, Sangho(곽 상호); Sohn, Jiyeon(손 지연); Shin, Kicheul(신 기철); Kim, Younchul(김 윤철); Kim, Hyungjin(김 형진); Lee, Keuntae(이 근태); Ko, Sangjin(고 상진); Lee, Sooho(이 수호); Lee, Bokil(이 복일); Lee, Euijeong(이 의정); Kim, Taeyoung(김 태영); Jin, Jonghyun(진 종현); Yeom, Dongyun(염 동윤); Park, Hongyong(박 홍용); Bae, Younghwan(배 영환); Shim, Sungryul(심 성률); Bae, Seunghee(배 승희); Lee, Younghun(이 영훈); Lee, Jonghoon(이 종훈); Kwon, Seungchoon(권 승춘); Lee, Jinhak(이 진학); Ju, Jeonghyeon(주 정현); Jung, Chuldoo(정 철두); Kim, Narae(김 나래); Ko, Junghwan(고 정환); Cho, Hyungsub(조 형섭); Choi, Kyungeun(최 경은); Jeong, Sanghyun(정 상현); Joung, Youngil(정 영일); Han, Yunkyong(한 윤경); AKR 전략팀/Strategy Team (Internal); AKR System팀/System Team (Internal); Fujita, Eiichi(후지타 에이이치); AKR 법무/감사실/Legal/Audit Dept. (Internal); AKR 유통팀/Distribution Team (Internal); AKR 여신팀/Credit Team (Internal); AKR Marketing 1부/Marketing Dept.1 (Internal); AKR Marketing 2부/Marketing Dept.2 (Internal); AKR 비뇨기1MS/Urology1MS (Internal); AKR 비뇨기2MS/Urology2MS (Internal); AKR 개업의MS/Clinic MS (Internal); AKR 면역MS/Immunology MS (Internal); AKR SI MS (Internal); AKR MCM팀/MCM Team (Internal); AKR 사업기획부/Business Planning Dept. (Internal); AKR 대외협력실/External Affairs Dept. (Internal); AKR MSL1팀/MSL Team1 (Internal); AKR 재무회계부/Finance & Accounting Dept (Internal); Roh, Hyeunseung(노 현승); Cho, Hyunji(조 현지); Cho, Youngjoo(조 영주); Lee, Wooki(이 우기); Iwata, Minoru(岩田 実); Na, Jihye(나 지혜); Hwang, Jaeyeon(황 재연); Lim, Youngkuk(임 영국); Ko, Seungyong(고 승용); Lee, Sangmin(이 상민)\\x00\\nCC: \\nSubject: 전략팀 News Clipping Today (2016. 10. 11 (화))\\nDate: \\n-----------------\\n\\n \\n\\n \\n\\n\\n\\n2016. 10. 11 (화)\\n\\nNews Clipping Today\\n\\n \\n\\n■ 산업/정책 동향\\n\\n•       복지부, 다국적제약 2단계 리베이트 행정조사 추진   <데일리팜>\\n<http://www.dailypharm.com/News/217315> \\n\\n•       “김영란법 유권해석 애매하면 안된다“  <약사신문>\\n<http://www.pharmnews.co.kr/news.asp?sno=82366&part=%BA%B8%B0%C7%C1%A4%C\\n3%A5> \\n\\n•       신약 급여율 막판 급피치… 3분기까지 93%     <메디소비자뉴스>\\n<http://www.medisobizanews.com/news/articleView.html?idxno=42542> \\n\\n•       “혁신신약 의료비절감 근거 충분…급여장벽 완화해야”    <청년의사>\\n<http://www.docdocdoc.co.kr/224899> \\n\\n•       심평원·공단 \"김영란법보다 더 엄격한 규정 적용\"     <데일리메디>\\n<http://www.dailymedi.com/detail.php?number=811107&thread=22r01> \\n\\n \\n\\n■ 기업/경영\\n\\n•       \\'제약 빅3\\' 우울한 3분기, 영업이익 일제히 감소세   <머니투데이>\\n<http://news.mt.co.kr/mtview.php?no=2016101015082922604&type=2&sec=indus\\ntry&pDepth2=Ibio> \\n\\n•       한국과 공동 연구개발 활발한 다국적제약사는? <의학신문>\\n<http://www.bosa.co.kr/umap/sub.asp?news_pk=610060> \\n\\n•       한국먼디파마 대표에 이명세 전 애보트 사장 내정  <메디컬옵저버>\\n<http://www.monews.co.kr/news/articleView.html?idxno=94125> \\n\\n \\n\\n■ 신제품/경쟁품 \\n\\n\\t\\n•       오리지널 판매경험으로 \\'오리지널 공략\\'하는 제약   <데일리팜>\\n<http://www.dailypharm.com/News/217276> \\n\\n•       신약 급여율 막판 급피치… 3분기까지 93%     <메디소비자뉴스>\\n<http://www.medisobizanews.com/news/articleView.html?idxno=42542> \\n\\n•       폐암 치료 ‘키트루다’ 표준요법 될 듯   <메디팜스투데이>\\n<http://www.pharmstoday.com/news/articleView.html?idxno=137648> \\n\\n•       단일제 성장신화 제미글로, 복합제 시장서도 재현    <메디컬타임즈>\\n<http://www.medicaltimes.com/Users4/News/newsView.html?ID=1107528> \\n\\n \\n\\n■ 기타 \\n\\n•       부산고신대병원 리베이트 사건 확산  <약사신문>\\n<http://www.pharmnews.co.kr/news.asp?sno=82379&part=%C1%A6%BE%E0> \\n\\n•       국립대병원 국정감사, 주요 이슈 살펴보니 <의약뉴스>\\n<http://www.newsmp.com/news/articleView.html?idxno=159910> \\n\\n\\t\\n\\n \\n\\n \\n\\n \\n\\n \\n\\n \\n\\n \\n\\n \\n\\n \\n\\n \\n\\n \\n\\n \\n\\n \\n\\n \\n\\n \\n\\n \\n\\n \\n\\n \\n\\n \\n\\n \\n\\n \\n\\n \\n\\n \\n\\n \\n\\n \\n\\n \\n\\n \\n\\n \\n\\n \\n\\n \\n\\n \\n\\n \\n\\n \\n\\n \\n\\n \\n\\n \\n\\n \\n\\n \\n\\nFrom: Ma, Youngmin(마 영민) \\nSent: Monday, October 10, 2016 9:48 AM\\nTo: Jeong, Haido(정 해도); Fujita, Eiichi(藤田 英一); Cho, Youngduck(조 영덕);\\nBae, Younwang(배 연왕); Song, Joohun(송 주헌); Bae, Minyoung(배 민영); Jeong,\\nRakhyun(정 낙현); Kim, Kyunghee(김 경희1); Lee, Jaewoong(이 재웅); Choi,\\nYongseung(최 용승); Kim, Kwangmyung(김 광명); Cho, Kichan(조 기찬); Kim,\\nSungtae(김 성태); Lee, Dongwook(이 동욱); Kim, Daeyoung(김 대영); Jin, Hongsik(진\\n홍식); Ju, Kwangwon(주 광원); Kim, Hyunsook(김 현숙); Kim, Jinho(김 진호); Kwak,\\nSangho(곽 상호); Sohn, Jiyeon(손 지연); Shin, Kicheul(신 기철); Kim, Younchul(김\\n윤철); Kim, Hyungjin(김 형진); Lee, Keuntae(이 근태); Ko, Sangjin(고 상진); Lee,\\nSooho(이 수호); Lee, Bokil(이 복일); Lee, Euijeong(이 의정); Kim, Taeyoung(김 태영);\\nJin, Jonghyun(진 종현); Yeom, Dongyun(염 동윤); Park, Hongyong(박 홍용); Bae,\\nYounghwan(배 영환); Shim, Sungryul(심 성률); Bae, Seunghee(배 승희); Lee,\\nYounghun(이 영훈); Lee, Jonghoon(이 종훈); Kwon, Seungchoon(권 승춘); Lee,\\nJinhak(이 진학); Ju, Jeonghyeon(주 정현); Jung, Chuldoo(정 철두); Kim, Narae(김\\n나래); Ko, Junghwan(고 정환); Cho, Hyungsub(조 형섭); Choi, Kyungeun(최 경은);\\nJeong, Sanghyun(정 상현); Joung, Youngil(정 영일); Han, Yunkyong(한 윤경); AKR\\n전략팀/Strategy Team (Internal); AKR System팀/System Team (Internal);\\nFujita, Eiichi(藤田 英一); AKR CP/감사실/CP/Audit Dept. (Internal); AKR\\n유통팀/Distribution Team (Internal); AKR 여신팀/Credit Team (Internal); AKR\\nMarketing 1부/Marketing Dept.1 (Internal); AKR Marketing 2부/Marketing\\nDept.2 (Internal); AKR 비뇨기1MS/Urology1MS (Internal); AKR\\n비뇨기2MS/Urology2MS (Internal); AKR 개업의MS/Clinic MS (Internal); AKR\\n면역MS/Immunology MS (Internal); AKR SI MS (Internal); AKR MCM팀/MCM Team\\n(Internal); AKR 사업기획부/Business Planning Dept. (Internal); AKR\\n대외협력실/External Affairs Dept. (Internal); AKR MSL1팀/MSL Team1 (Internal);\\nAKR 재무회계부/Finance & Accounting Dept (Internal); Roh, Hyeunseung(노 현승);\\nCho, Hyunji(조 현지); Cho, Youngjoo(조 영주); Lee, Wooki(이 우기); Iwata,\\nMinoru(岩田 実); Na, Jihye(나 지혜); Hwang, Jaeyeon(황 재연); Lim, Youngkuk(임\\n영국); Ko, Seungyong(고 승용); Lee, Sangmin(이 상민)\\nSubject: 전략팀 News Clipping Today (2016. 10. 10 (월))\\n\\n \\n\\n \\n\\n \\n\\n \\n\\n\\n\\n2016. 10. 10 (월)\\n\\nNews Clipping Today\\n\\n \\n\\n■ 산업/정책 동향\\n\\n•       김영란법 연계된 \\'강연·자문료 가이드라인\\' 가시화      <데일리팜>\\n<http://www.dailypharm.com/News/217252> \\n\\n•       \"획기적 의약품 지원 정책 재검토 돼야\"  <메디컬옵저버>\\n<http://www.monews.co.kr/news/articleView.html?idxno=94082> \\n\\n•       늘어나는 4대중증질환 진료비…진료인원 증가율의 2~3배     <청년의사>\\n<http://www.docdocdoc.co.kr/224828> \\n\\n•       부산검찰청, 내부고발 포상금 제도 도입해야    <후생신보>\\n<http://www.whosaeng.com/sub_read.html?uid=88227&section=sc5&section2=> \\n\\n \\n\\n■ 기업/경영\\n\\n•       한국머크 영문 계약서 작성 빈축 <의학신문>\\n<http://www.bosa.co.kr/umap/sub.asp?news_pk=609983> \\n\\n•       서울 동대문 소재 서영약품 자진정리 \\'왜?\\'  <의학신문>\\n<http://www.bosa.co.kr/umap/sub.asp?news_pk=609584> \\n\\n•       \"동지에서 적으로\"…코프로모션 \\'빛과 그림자\\'  <메디파나뉴스>\\n<http://www.medipana.com/news/news_viewer.asp?NewsNum=189360&MainKind=A&\\nNewsKind=5&vCount=12&vKind=1> \\n\\n•       기술수출 거액 계약금 입금 … 유한양행의 \\'감회\\'  <메디소비자뉴스>\\n<http://www.medisobizanews.com/news/articleView.html?idxno=42520> \\n\\n•       코스닥시장 제약주, 외국인 지분 확대   <의약뉴스>\\n<http://www.newsmp.com/news/articleView.html?idxno=159825> \\n\\n \\n\\n■ 신제품/경쟁품 \\n\\n\\t\\n•       중소제약 \\'오리지널\\' 빨간불…특허깨기 도전 받아   <데일리팜>\\n<http://www.dailypharm.com/News/217237> \\n\\n•       \"시장성 없어\" \"약가 너무 싸\"… 허가받고 출시못한 신약들  <메디소비자뉴스>\\n<http://www.medisobizanews.com/news/articleView.html?idxno=42519> \\n\\n•       옵디보, 폐암 임상시험 분석결과 실망   <의약뉴스>\\n<http://www.newsmp.com/news/articleView.html?idxno=159820> \\n\\n•       고혈압 복합제 시장 ‘포스트 트윈스타’ 50개사 격돌    <보건뉴스>\\n<http://www.bokuennews.com/news/article.html?no=131152> \\n\\n \\n\\n■ 기타 \\n\\n•       리베이트 받은 의료인 2512명 시효제로 처분 면제  <데일리팜>\\n<http://www.dailypharm.com/News/217232> \\n\\n•       노바티스 ‘불법 마케팅’ 또 적발 … 이번엔 미국에서  <헬스코리아>\\n<http://www.hkn24.com/news/articleView.html?idxno=157975> \\n\\n•       접대비 늘어난 의료기기社···김영란법 제동걸까  <데일리메디>\\n<http://www.dailymedi.com/detail.php?number=811059&thread=22r06> \\n\\n\\t\\n\\n \\n\\n \\n\\n \\n\\n \\n\\n \\n\\n \\n\\n \\n\\n \\n\\n \\n\\n \\n\\n \\n\\n \\n\\n \\n\\n \\n\\n \\n\\n \\n\\n \\n\\n \\n\\n \\n\\n \\n\\n \\n\\n \\n\\n \\n\\n \\n\\n \\n\\n \\n\\n \\n\\n \\n\\n \\n\\n \\n\\n \\n\\n \\n\\n \\n\\n \\n\\n \\n\\n \\n\\n \\n\\n \\n\\n \\n\\nYoung Min Ma\\n\\n \\n\\nBusiness Planning Deputy Director\\n\\nStrategy Team \\n\\nPresident Office\\n\\n \\n\\nAstellas Pharma Korea, Inc.\\n\\n6F. Kumha Bldg., #41-2 Chungdam-dong,\\n\\nKangnam-ku, Seoul, 135-766, Korea\\n\\nTEL. +82-2-3448-0504\\n\\nDirect. +82-2-6923-3167\\n\\nFAX. +82-2-3448-0514\\n\\nE-mail : youngmin.ma@astellas.com <mailto:sumi.han@kr.astellas.com> \\n\\n \\n\\n \\n\\nFrom: Ma, Youngmin(마 영민) </O=ASTELLAS/OU=EXCHANGE ADMINISTRATIVE GROUP (FYDIBOHF23SPDLT)/CN=RECIPIENTS/CN=KA090119>\\nTo: Jeong, Haido(정 해도); Fujita, Eiichi(후지타 에이이치); Cho, Youngduck(조 영덕); Bae, Younwang(배 연왕); Song, Joohun(송 주헌); Bae, Minyoung(배 민영); Jeong, Rakhyun(정 낙현); Kim, Kyunghee(김 경희1); Lee, Jaewoong(이 재웅); Choi, Yongseung(최 용승); Kim, Kwangmyung(김 광명); Cho, Kichan(조 기찬); Kim, Sungtae(김 성태); Lee, Dongwook(이 동욱); Kim, Daeyoung(김 대영); Jin, Hongsik(진 홍식); Ju, Kwangwon(주 광원); Kim, Hyunsook(김 현숙); Kim, Jinho(김 진호); Kwak, Sangho(곽 상호); Sohn, Jiyeon(손 지연); Shin, Kicheul(신 기철); Kim, Younchul(김 윤철); Kim, Hyungjin(김 형진); Lee, Keuntae(이 근태); Ko, Sangjin(고 상진); Lee, Sooho(이 수호); Lee, Bokil(이 복일); Lee, Euijeong(이 의정); Kim, Taeyoung(김 태영); Jin, Jonghyun(진 종현); Yeom, Dongyun(염 동윤); Park, Hongyong(박 홍용); Bae, Younghwan(배 영환); Shim, Sungryul(심 성률); Bae, Seunghee(배 승희); Lee, Younghun(이 영훈); Lee, Jonghoon(이 종훈); Kwon, Seungchoon(권 승춘); Lee, Jinhak(이 진학); Ju, Jeonghyeon(주 정현); Jung, Chuldoo(정 철두); Kim, Narae(김 나래); Ko, Junghwan(고 정환); Cho, Hyungsub(조 형섭); Choi, Kyungeun(최 경은); Jeong, Sanghyun(정 상현); Joung, Youngil(정 영일); Han, Yunkyong(한 윤경); AKR 전략팀/Strategy Team (Internal); AKR System팀/System Team (Internal); Fujita, Eiichi(후지타 에이이치); AKR 법무/감사실/Legal/Audit Dept. (Internal); AKR 유통팀/Distribution Team (Internal); AKR 여신팀/Credit Team (Internal); AKR Marketing 1부/Marketing Dept.1 (Internal); AKR Marketing 2부/Marketing Dept.2 (Internal); AKR 비뇨기1MS/Urology1MS (Internal); AKR 비뇨기2MS/Urology2MS (Internal); AKR 개업의MS/Clinic MS (Internal); AKR 면역MS/Immunology MS (Internal); AKR SI MS (Internal); AKR MCM팀/MCM Team (Internal); AKR 사업기획부/Business Planning Dept. (Internal); AKR 대외협력실/External Affairs Dept. (Internal); AKR MSL1팀/MSL Team1 (Internal); AKR 재무회계부/Finance & Accounting Dept (Internal); Roh, Hyeunseung(노 현승); Cho, Hyunji(조 현지); Cho, Youngjoo(조 영주); Lee, Wooki(이 우기); Iwata, Minoru(岩田 実); Na, Jihye(나 지혜); Hwang, Jaeyeon(황 재연); Lim, Youngkuk(임 영국); Ko, Seungyong(고 승용); Lee,'"
      ]
     },
     "execution_count": 11,
     "metadata": {},
     "output_type": "execute_result"
    }
   ],
   "source": [
    "data[:10000]"
   ]
  },
  {
   "cell_type": "code",
   "execution_count": 9,
   "metadata": {},
   "outputs": [],
   "source": [
    "res = requests.get('http://www.dailypharm.com/News/217315')"
   ]
  },
  {
   "cell_type": "code",
   "execution_count": null,
   "metadata": {},
   "outputs": [],
   "source": [
    "new_url_list = []\n",
    "for url in df.url:\n",
    "    try:\n",
    "        res = requests.get(url)\n",
    "        new_url_list.append(res.url)\n",
    "    except:\n",
    "        new_url_list.append('failed')"
   ]
  },
  {
   "cell_type": "code",
   "execution_count": 7,
   "metadata": {},
   "outputs": [
    {
     "data": {
      "text/plain": [
       "category    0\n",
       "date        0\n",
       "url         0\n",
       "dtype: int64"
      ]
     },
     "execution_count": 7,
     "metadata": {},
     "output_type": "execute_result"
    }
   ],
   "source": [
    "df.isnull().sum()"
   ]
  },
  {
   "cell_type": "code",
   "execution_count": 12,
   "metadata": {},
   "outputs": [
    {
     "data": {
      "text/plain": [
       "'http://www.medisobizanews.com/news/articleView.html?idxno=42542'"
      ]
     },
     "execution_count": 12,
     "metadata": {},
     "output_type": "execute_result"
    }
   ],
   "source": [
    "df.url[1]"
   ]
  }
 ],
 "metadata": {
  "kernelspec": {
   "display_name": "Python 3",
   "language": "python",
   "name": "python3"
  },
  "language_info": {
   "codemirror_mode": {
    "name": "ipython",
    "version": 3
   },
   "file_extension": ".py",
   "mimetype": "text/x-python",
   "name": "python",
   "nbconvert_exporter": "python",
   "pygments_lexer": "ipython3",
   "version": "3.6.3"
  }
 },
 "nbformat": 4,
 "nbformat_minor": 2
}
